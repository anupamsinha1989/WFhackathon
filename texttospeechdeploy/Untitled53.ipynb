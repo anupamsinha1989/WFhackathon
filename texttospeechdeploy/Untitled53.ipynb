{
 "cells": [
  {
   "cell_type": "code",
   "execution_count": 1,
   "metadata": {},
   "outputs": [],
   "source": [
    "from gtts import gTTS\n",
    "from flask import Flask, send_file, request, Response\n",
    "import sounddevice as sd\n",
    "#from google.cloud import texttospeech\n",
    "import soundfile as sf\n",
    "import tkinter as tk\n",
    "import threading\n",
    "import pyaudio\n",
    "import wave\n",
    "from flask_cors import CORS\n",
    "import io\n",
    "from io import BytesIO\n",
    "import eng_to_ipa as p\n",
    "import jason\n",
    "import os\n",
    "import uuid\n",
    "from flask import Flask, flash, request, redirect"
   ]
  },
  {
   "cell_type": "code",
   "execution_count": null,
   "metadata": {},
   "outputs": [
    {
     "name": "stdout",
     "output_type": "stream",
     "text": [
      " * Serving Flask app \"__main__\" (lazy loading)\n",
      " * Environment: production\n",
      "   WARNING: This is a development server. Do not use it in a production deployment.\n",
      "   Use a production WSGI server instead.\n",
      " * Debug mode: off\n"
     ]
    },
    {
     "name": "stderr",
     "output_type": "stream",
     "text": [
      " * Running on http://127.0.0.1:8000/ (Press CTRL+C to quit)\n"
     ]
    },
    {
     "name": "stdout",
     "output_type": "stream",
     "text": [
      "Recording\n",
      "Recording\n"
     ]
    },
    {
     "name": "stderr",
     "output_type": "stream",
     "text": [
      "127.0.0.1 - - [17/May/2022 00:54:21] \"\u001b[37mGET /?username=Collins&record=yes HTTP/1.1\u001b[0m\" 200 -\n"
     ]
    },
    {
     "name": "stdout",
     "output_type": "stream",
     "text": [
      "recording complete\n"
     ]
    },
    {
     "name": "stderr",
     "output_type": "stream",
     "text": [
      "127.0.0.1 - - [17/May/2022 00:55:59] \"\u001b[37mGET /?username=Jose&phonetic=yes HTTP/1.1\u001b[0m\" 200 -\n",
      "127.0.0.1 - - [17/May/2022 00:56:14] \"\u001b[37mGET /?username=Bao&phonetic=yes HTTP/1.1\u001b[0m\" 200 -\n",
      "127.0.0.1 - - [17/May/2022 00:56:21] \"\u001b[37mGET /?username=Andy&phonetic=yes HTTP/1.1\u001b[0m\" 200 -\n"
     ]
    }
   ],
   "source": [
    "\n",
    "#CORS(app)\n",
    "#cors = CORS(app, resources={r\"/api/*\": {\"origins\": \"*\"}})\n",
    "UPLOAD_FOLDER = 'files'\n",
    "\n",
    "app = Flask(__name__)\n",
    "@app.route(\"/\", methods=['GET','POST'])\n",
    "def hello():\n",
    "        name = request.args.get('username')\n",
    "        record = request.args.get('record')\n",
    "        phonetic= request.args.get('phonetic')\n",
    "        \n",
    "        if record == 'yes':\n",
    "            class App():\n",
    "                chunk = 1024 \n",
    "                sample_format = pyaudio.paInt16 \n",
    "                channels = 2\n",
    "                fs = 44100  \n",
    "\n",
    "                frames = []  \n",
    "                def __init__(self, master):\n",
    "                    self.isrecording = False\n",
    "                    self.button1 = tk.Button(main, text='rec',command=self.startrecording)\n",
    "                    self.button2 = tk.Button(main, text='stop',command=self.stoprecording)\n",
    "\n",
    "                    self.button1.pack()\n",
    "                    self.button2.pack()\n",
    "\n",
    "                def startrecording(self):\n",
    "                    self.p = pyaudio.PyAudio()  \n",
    "                    self.stream = self.p.open(format=self.sample_format,channels=self.channels,rate=self.fs,frames_per_buffer=self.chunk,input=True)\n",
    "                    self.isrecording = True\n",
    "\n",
    "                    print('Recording')\n",
    "                    t = threading.Thread(target=self.record)\n",
    "                    t.start()\n",
    "\n",
    "                def stoprecording(self):\n",
    "                    self.isrecording = False\n",
    "                    print('recording complete')\n",
    "                    self.filename= name\n",
    "                    self.filename = self.filename+\".wav\"\n",
    "                    wf = wave.open(self.filename, 'wb')\n",
    "                    wf.setnchannels(self.channels)\n",
    "                    wf.setsampwidth(self.p.get_sample_size(self.sample_format))\n",
    "                    wf.setframerate(self.fs)\n",
    "                    wf.writeframes(b''.join(self.frames))\n",
    "                    wf.close()\n",
    "                    main.destroy()\n",
    "                def record(self):\n",
    "\n",
    "                    while self.isrecording:\n",
    "                        data = self.stream.read(self.chunk)\n",
    "                        self.frames.append(data)\n",
    "\n",
    "\n",
    "            main = tk.Tk()\n",
    "            main.title('recorder')\n",
    "            main.geometry('200x50')\n",
    "            app = App(main)\n",
    "            main.mainloop()\n",
    "            \n",
    "            return send_file(name+'.wav',attachment_filename=name+'.wav')\n",
    "            \n",
    "        elif record=='no':\n",
    "            obj = gTTS(text = name, slow = False, lang = 'en')\n",
    "            obj.save(name+'.wav')\n",
    "            def generate():\n",
    "                \n",
    "                with open(name+\".wav\", \"rb\") as fwav:\n",
    "                    data = fwav.read(1024)\n",
    "                    while data:\n",
    "                        yield data\n",
    "                        data = fwav.read(1024)\n",
    "            return Response(generate(), mimetype=\"audio/x-wav\")\n",
    "        else:\n",
    "            return p.convert(name)\n",
    "if __name__ == \"__main__\":\n",
    "        app.run(port=8000)"
   ]
  },
  {
   "cell_type": "code",
   "execution_count": null,
   "metadata": {},
   "outputs": [],
   "source": []
  }
 ],
 "metadata": {
  "kernelspec": {
   "display_name": "Python 3",
   "language": "python",
   "name": "python3"
  },
  "language_info": {
   "codemirror_mode": {
    "name": "ipython",
    "version": 3
   },
   "file_extension": ".py",
   "mimetype": "text/x-python",
   "name": "python",
   "nbconvert_exporter": "python",
   "pygments_lexer": "ipython3",
   "version": "3.8.3"
  }
 },
 "nbformat": 4,
 "nbformat_minor": 4
}
